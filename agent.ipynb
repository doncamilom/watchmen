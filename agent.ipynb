{
 "cells": [
  {
   "cell_type": "code",
   "execution_count": 31,
   "metadata": {},
   "outputs": [],
   "source": [
    "import requests\n",
    "import json\n",
    "\n",
    "def req(q, type=\"analyze_image\"):\n",
    "    url = f\"http://liacpc3.epfl.ch:9178/{type}\"\n",
    "    headers = {\n",
    "        \"Content-Type\": \"application/json\"\n",
    "    }\n",
    "    data = {\n",
    "        \"query\": q\n",
    "    }\n",
    "    # Make the POST request\n",
    "    response = requests.post(url, headers=headers, data=json.dumps(data))\n",
    "    return response.json()"
   ]
  },
  {
   "cell_type": "code",
   "execution_count": 32,
   "metadata": {},
   "outputs": [
    {
     "data": {
      "text/plain": [
       "{'result': \"{'results': {'results': [{'label': 'boats', 'confidence': 0.222, 'box': [160.02, 537.26, 221.75, 560.11]}, {'label': 'boats', 'confidence': 0.223, 'box': [241.9, 530.59, 314.63, 581.79]}, {'label': 'boats', 'confidence': 0.204, 'box': [1637.23, 574.51, 1650.13, 588.23]}, {'label': 'boats', 'confidence': 0.243, 'box': [1625.78, 572.44, 1676.83, 589.25]}, {'label': 'boats', 'confidence': 0.388, 'box': [1821.43, 577.15, 1850.94, 593.79]}, {'label': 'boats', 'confidence': 0.265, 'box': [1875.79, 575.01, 1887.68, 582.33]}, {'label': 'boats', 'confidence': 0.391, 'box': [1458.44, 587.06, 1547.05, 621.69]}, {'label': 'boats', 'confidence': 0.417, 'box': [1563.06, 588.42, 1592.34, 608.03]}, {'label': 'boats', 'confidence': 0.298, 'box': [588.68, 550.66, 1114.92, 674.49]}]}, 'response': 'The image analysis software has identified 9 boats in the picture.'}\"}"
      ]
     },
     "execution_count": 32,
     "metadata": {},
     "output_type": "execute_result"
    }
   ],
   "source": [
    "req(\"how many boats are in the picture?\")"
   ]
  },
  {
   "cell_type": "code",
   "execution_count": 33,
   "metadata": {},
   "outputs": [
    {
     "data": {
      "text/plain": [
       "{'result': '{\\'results\\': {\\'results\\': [{\\'label\\': \\'clouds\\', \\'confidence\\': 0.239, \\'box\\': [1364.71, 54.29, 1774.6, 144.6]}, {\\'label\\': \\'clouds\\', \\'confidence\\': 0.23, \\'box\\': [6.44, 111.36, 657.13, 313.83]}, {\\'label\\': \\'clouds\\', \\'confidence\\': 0.25, \\'box\\': [0.7, -4.56, 1861.66, 541.8]}]}, \\'response\\': \\'The image analysis software has identified three distinct areas labeled as \"clouds\" in the image. Here are the details of each identified cloud area:\\\\n\\\\n1. The first cloud is located within the bounding box coordinates [1364.71, 54.29, 1774.6, 144.6].\\\\n2. The second cloud is located within the bounding box coordinates [6.44, 111.36, 657.13, 313.83].\\\\n3. The third cloud is located within the bounding box coordinates [0.7, -4.56, 1861.66, 541.8].\\\\n\\\\nThese coordinates represent the position and size of the clouds in the image. If you need more specific information or analysis about these clouds, please let me know!\\'}'}"
      ]
     },
     "execution_count": 33,
     "metadata": {},
     "output_type": "execute_result"
    }
   ],
   "source": [
    "req(\"what about the clouds?\")"
   ]
  },
  {
   "cell_type": "code",
   "execution_count": 34,
   "metadata": {},
   "outputs": [
    {
     "data": {
      "text/plain": [
       "{'result': \"{'results': {'results': []}, 'response': 'The image analysis software did not provide any information about the objects in the image, as indicated by the empty brackets []. Therefore, I am unable to determine which type of object is more prevalent in the image. If you have more details or another image analysis result, please provide them for further assistance.'}\"}"
      ]
     },
     "execution_count": 34,
     "metadata": {},
     "output_type": "execute_result"
    }
   ],
   "source": [
    "req(\"so are there more of which type of object?\")"
   ]
  },
  {
   "cell_type": "code",
   "execution_count": 35,
   "metadata": {},
   "outputs": [
    {
     "data": {
      "text/plain": [
       "{'result': \"{'results': {'results': []}, 'response': 'It seems that the image analysis software did not identify any objects in the image, as indicated by the empty brackets. Therefore, I cannot provide a summary of objects in the image based on the current information. If there is additional context or details available, please provide them for further assistance.'}\"}"
      ]
     },
     "execution_count": 35,
     "metadata": {},
     "output_type": "execute_result"
    }
   ],
   "source": [
    "req(\"Based on the previous context, summarize the objects in the image.\")"
   ]
  },
  {
   "cell_type": "code",
   "execution_count": null,
   "metadata": {},
   "outputs": [],
   "source": [
    "req(\"\")"
   ]
  }
 ],
 "metadata": {
  "kernelspec": {
   "display_name": "watchmen",
   "language": "python",
   "name": "python3"
  },
  "language_info": {
   "codemirror_mode": {
    "name": "ipython",
    "version": 3
   },
   "file_extension": ".py",
   "mimetype": "text/x-python",
   "name": "python",
   "nbconvert_exporter": "python",
   "pygments_lexer": "ipython3",
   "version": "3.10.15"
  }
 },
 "nbformat": 4,
 "nbformat_minor": 2
}
