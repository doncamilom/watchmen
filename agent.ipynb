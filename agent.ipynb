{
 "cells": [
  {
   "cell_type": "code",
   "execution_count": 18,
   "metadata": {},
   "outputs": [],
   "source": [
    "import requests\n",
    "import json\n",
    "\n",
    "def req(q):\n",
    "    url = \"http://liacpc3.epfl.ch:9178/analyze_image\"\n",
    "    headers = {\n",
    "        \"Content-Type\": \"application/json\"\n",
    "    }\n",
    "    data = {\n",
    "        \"query\": q\n",
    "    }\n",
    "    # Make the POST request\n",
    "    response = requests.post(url, headers=headers, data=json.dumps(data))\n",
    "    return response.json()"
   ]
  },
  {
   "cell_type": "code",
   "execution_count": 19,
   "metadata": {},
   "outputs": [
    {
     "data": {
      "text/plain": [
       "{'result': 'There are 9 boats in the picture.'}"
      ]
     },
     "execution_count": 19,
     "metadata": {},
     "output_type": "execute_result"
    }
   ],
   "source": [
    "req(\"how many boats are in the picture?\")"
   ]
  },
  {
   "cell_type": "code",
   "execution_count": 20,
   "metadata": {},
   "outputs": [
    {
     "data": {
      "text/plain": [
       "{'result': 'Based on the image analysis, here are the details of the boats in the picture along with their bounding box coordinates:\\n\\n1. Boat 1: Located at coordinates [160.02, 537.26, 221.75, 560.11]\\n2. Boat 2: Located at coordinates [241.9, 530.59, 314.63, 581.79]\\n3. Boat 3: Located at coordinates [1637.23, 574.51, 1650.13, 588.23]\\n4. Boat 4: Located at coordinates [1625.78, 572.44, 1676.83, 589.25]\\n5. Boat 5: Located at coordinates [1821.43, 577.15, 1850.94, 593.79]\\n6. Boat 6: Located at coordinates [1875.79, 575.01, 1887.68, 582.33]\\n7. Boat 7: Located at coordinates [1458.44, 587.06, 1547.05, 621.69]\\n8. Boat 8: Located at coordinates [1563.06, 588.42, 1592.34, 608.03]\\n9. Boat 9: Located at coordinates [588.68, 550.66, 1114.92, 674.49]\\n\\nThese coordinates represent the bounding boxes around each boat in the image.'}"
      ]
     },
     "execution_count": 20,
     "metadata": {},
     "output_type": "execute_result"
    }
   ],
   "source": [
    "req(\"more details?\")"
   ]
  },
  {
   "cell_type": "code",
   "execution_count": 21,
   "metadata": {},
   "outputs": [
    {
     "data": {
      "text/plain": [
       "{'result': 'The image analysis has identified three distinct areas in the picture that contain clouds. Here are the details of each cloud area along with their bounding box coordinates:\\n\\n1. Cloud Area 1: Located at coordinates [1364.71, 54.29, 1774.6, 144.6]\\n2. Cloud Area 2: Located at coordinates [6.44, 111.36, 657.13, 313.83]\\n3. Cloud Area 3: Located at coordinates [0.7, -4.56, 1861.66, 541.8]\\n\\nThese coordinates represent the positions and dimensions of the clouds in the image.'}"
      ]
     },
     "execution_count": 21,
     "metadata": {},
     "output_type": "execute_result"
    }
   ],
   "source": [
    "req(\"what about the clouds?\")"
   ]
  },
  {
   "cell_type": "code",
   "execution_count": 22,
   "metadata": {},
   "outputs": [
    {
     "data": {
      "text/plain": [
       "{'result': 'Based on the image analysis, there are no objects detected in the picture. The count of objects is zero.'}"
      ]
     },
     "execution_count": 22,
     "metadata": {},
     "output_type": "execute_result"
    }
   ],
   "source": [
    "req(\"so are there more of which type of object?\")"
   ]
  },
  {
   "cell_type": "code",
   "execution_count": 23,
   "metadata": {},
   "outputs": [
    {
     "data": {
      "text/plain": [
       "{'result': 'Based on the previous context and analysis, the image contains the following objects:\\n\\n1. 9 boats with their respective bounding box coordinates.\\n2. 3 distinct areas of clouds with their bounding box coordinates.\\n\\nThese objects were identified and analyzed in the image.'}"
      ]
     },
     "execution_count": 23,
     "metadata": {},
     "output_type": "execute_result"
    }
   ],
   "source": [
    "req(\"Based on the previous context, summarize the objects in the image.\")"
   ]
  },
  {
   "cell_type": "code",
   "execution_count": null,
   "metadata": {},
   "outputs": [],
   "source": []
  }
 ],
 "metadata": {
  "kernelspec": {
   "display_name": "watchmen",
   "language": "python",
   "name": "python3"
  },
  "language_info": {
   "codemirror_mode": {
    "name": "ipython",
    "version": 3
   },
   "file_extension": ".py",
   "mimetype": "text/x-python",
   "name": "python",
   "nbconvert_exporter": "python",
   "pygments_lexer": "ipython3",
   "version": "3.10.15"
  }
 },
 "nbformat": 4,
 "nbformat_minor": 2
}
