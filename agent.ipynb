{
 "cells": [
  {
   "cell_type": "code",
   "execution_count": 23,
   "metadata": {},
   "outputs": [],
   "source": [
    "import requests\n",
    "import json\n",
    "\n",
    "def req(q, box=None):\n",
    "    url = \"http://liacpc3.epfl.ch:9178/analyze_image\"\n",
    "    headers = {\n",
    "        \"Content-Type\": \"application/json\"\n",
    "    }\n",
    "    data = {\n",
    "        \"require\": {\n",
    "            \"query\": \"How many boats are in this picture?\",\n",
    "            \"data\": {\n",
    "                # Add any additional metadata here\n",
    "                \"box\": box,\n",
    "            }\n",
    "        }\n",
    "    }\n",
    "    # Make the POST request\n",
    "    response = requests.post(url, headers=headers, data=json.dumps(data))\n",
    "    return response.json()"
   ]
  },
  {
   "cell_type": "code",
   "execution_count": 24,
   "metadata": {},
   "outputs": [
    {
     "data": {
      "text/plain": [
       "{'result': 'The image analysis software has identified 9 boats in the picture.'}"
      ]
     },
     "execution_count": 24,
     "metadata": {},
     "output_type": "execute_result"
    }
   ],
   "source": [
    "req(\"how many boats are in the picture?\")"
   ]
  },
  {
   "cell_type": "code",
   "execution_count": 22,
   "metadata": {},
   "outputs": [
    {
     "data": {
      "text/plain": [
       "{'result': 'The image analysis software has identified 9 boats in the picture.'}"
      ]
     },
     "execution_count": 22,
     "metadata": {},
     "output_type": "execute_result"
    }
   ],
   "source": [
    "req(\"what is the shape of the cloud in this box?\", box=[1364.71, 54.29, 1774.6, 144.6])"
   ]
  },
  {
   "cell_type": "code",
   "execution_count": 21,
   "metadata": {},
   "outputs": [
    {
     "data": {
      "text/plain": [
       "{'result': 'The image analysis has identified three distinct areas in the picture that contain clouds. Here are the details of each cloud area along with their bounding box coordinates:\\n\\n1. Cloud Area 1: Located at coordinates [1364.71, 54.29, 1774.6, 144.6]\\n2. Cloud Area 2: Located at coordinates [6.44, 111.36, 657.13, 313.83]\\n3. Cloud Area 3: Located at coordinates [0.7, -4.56, 1861.66, 541.8]\\n\\nThese coordinates represent the positions and dimensions of the clouds in the image.'}"
      ]
     },
     "execution_count": 21,
     "metadata": {},
     "output_type": "execute_result"
    }
   ],
   "source": [
    "req(\"what about the clouds?\")"
   ]
  },
  {
   "cell_type": "code",
   "execution_count": 22,
   "metadata": {},
   "outputs": [
    {
     "data": {
      "text/plain": [
       "{'result': 'Based on the image analysis, there are no objects detected in the picture. The count of objects is zero.'}"
      ]
     },
     "execution_count": 22,
     "metadata": {},
     "output_type": "execute_result"
    }
   ],
   "source": [
    "req(\"so are there more of which type of object?\")"
   ]
  },
  {
   "cell_type": "code",
   "execution_count": 23,
   "metadata": {},
   "outputs": [
    {
     "data": {
      "text/plain": [
       "{'result': 'Based on the previous context and analysis, the image contains the following objects:\\n\\n1. 9 boats with their respective bounding box coordinates.\\n2. 3 distinct areas of clouds with their bounding box coordinates.\\n\\nThese objects were identified and analyzed in the image.'}"
      ]
     },
     "execution_count": 23,
     "metadata": {},
     "output_type": "execute_result"
    }
   ],
   "source": [
    "req(\"Based on the previous context, summarize the objects in the image.\")"
   ]
  },
  {
   "cell_type": "code",
   "execution_count": null,
   "metadata": {},
   "outputs": [],
   "source": []
  }
 ],
 "metadata": {
  "kernelspec": {
   "display_name": "watchmen",
   "language": "python",
   "name": "python3"
  },
  "language_info": {
   "codemirror_mode": {
    "name": "ipython",
    "version": 3
   },
   "file_extension": ".py",
   "mimetype": "text/x-python",
   "name": "python",
   "nbconvert_exporter": "python",
   "pygments_lexer": "ipython3",
   "version": "3.10.15"
  }
 },
 "nbformat": 4,
 "nbformat_minor": 2
}
